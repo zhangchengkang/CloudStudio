{
 "cells": [
  {
   "cell_type": "markdown",
   "metadata": {},
   "source": [
    "# Python3 字典"
   ]
  },
  {
   "cell_type": "markdown",
   "metadata": {},
   "source": [
    "### 字典是另一种可变容器模型，且可存储任意类型对象。(其实就是map)\n",
    "### 字典的每个键值(key=>value)对用冒号(:)分割，每个对之间用逗号(,)分割，整个字典包括在花括号({})中 "
   ]
  },
  {
   "cell_type": "markdown",
   "metadata": {},
   "source": [
    "## 字典初始化"
   ]
  },
  {
   "cell_type": "code",
   "execution_count": 2,
   "metadata": {
    "scrolled": true
   },
   "outputs": [
    {
     "name": "stdout",
     "output_type": "stream",
     "text": [
      "{'abc': 123, 98.6: 37}\n",
      "<class 'dict'>\n"
     ]
    }
   ],
   "source": [
    "# 键必须是唯一的，但值则不必。\n",
    "# 值可以取任何数据类型，但键必须是不可变的，如字符串，数字或元组。\n",
    "# 当我们 print 一个字典时，Python并不一定按照插入键值的先后顺序进行显示,因为字典中的键本身不一定是有序的。\n",
    "dict1 = { 'abc': 456 };  \n",
    "dict2 = { 'abc': 123, 98.6: 37 };\n",
    "\n",
    "print(dict2)\n",
    "print(type(dict1))"
   ]
  },
  {
   "cell_type": "markdown",
   "metadata": {},
   "source": [
    "## 访问字典里的值"
   ]
  },
  {
   "cell_type": "code",
   "execution_count": 6,
   "metadata": {},
   "outputs": [
    {
     "name": "stdout",
     "output_type": "stream",
     "text": [
      "dict3['Name']:  kangshao\n"
     ]
    },
    {
     "ename": "KeyError",
     "evalue": "'aaaa'",
     "output_type": "error",
     "traceback": [
      "\u001b[1;31m---------------------------------------------------------------------------\u001b[0m",
      "\u001b[1;31mKeyError\u001b[0m                                  Traceback (most recent call last)",
      "\u001b[1;32m<ipython-input-6-41a7c89ec8af>\u001b[0m in \u001b[0;36m<module>\u001b[1;34m\u001b[0m\n\u001b[0;32m      2\u001b[0m \u001b[1;33m\u001b[0m\u001b[0m\n\u001b[0;32m      3\u001b[0m \u001b[0mprint\u001b[0m \u001b[1;33m(\u001b[0m\u001b[1;34m\"dict3['Name']: \"\u001b[0m\u001b[1;33m,\u001b[0m \u001b[0mdict3\u001b[0m\u001b[1;33m[\u001b[0m\u001b[1;34m'Name'\u001b[0m\u001b[1;33m]\u001b[0m\u001b[1;33m)\u001b[0m\u001b[1;33m\u001b[0m\u001b[1;33m\u001b[0m\u001b[0m\n\u001b[1;32m----> 4\u001b[1;33m \u001b[0mprint\u001b[0m \u001b[1;33m(\u001b[0m\u001b[1;34m\"dict3['aaaa']: \"\u001b[0m\u001b[1;33m,\u001b[0m \u001b[0mdict3\u001b[0m\u001b[1;33m[\u001b[0m\u001b[1;34m'aaaa'\u001b[0m\u001b[1;33m]\u001b[0m\u001b[1;33m)\u001b[0m \u001b[1;31m# 如果用字典里没有的键访问数据，会输出错误\u001b[0m\u001b[1;33m\u001b[0m\u001b[1;33m\u001b[0m\u001b[0m\n\u001b[0m",
      "\u001b[1;31mKeyError\u001b[0m: 'aaaa'"
     ]
    }
   ],
   "source": [
    "dict3 = {'Name': 'kangshao', 'Age': 24, 'address': 'hz'}\n",
    " \n",
    "print (\"dict3['Name']: \", dict3['Name'])\n",
    "print (\"dict3['aaaa']: \", dict3['aaaa']) # 如果用字典里没有的键访问数据，会输出错误"
   ]
  },
  {
   "cell_type": "markdown",
   "metadata": {},
   "source": [
    "## 修改字典"
   ]
  },
  {
   "cell_type": "code",
   "execution_count": 38,
   "metadata": {},
   "outputs": [
    {
     "name": "stdout",
     "output_type": "stream",
     "text": [
      "更新之前:  {'Name': 'kangshao', 'Age': 24, 'address': 'hz'}\n",
      "更新之后:  {'Name': 'kangshao', 'Age': 30, 'address': 'hz'}\n",
      "添加之后:  {'Name': 'kangshao', 'Age': 30, 'address': 'hz', 'School': '菜鸟教程'}\n"
     ]
    }
   ],
   "source": [
    "dict4 = {'Name': 'kangshao', 'Age': 24, 'address': 'hz'}\n",
    "print (\"更新之前: \", dict4)\n",
    "dict4['Age'] = 30;            # 更新 Age\n",
    "print (\"更新之后: \", dict4)\n",
    "\n",
    "dict4['School'] = \"菜鸟教程\"  # 添加信息\n",
    "print (\"添加之后: \", dict4)"
   ]
  },
  {
   "cell_type": "markdown",
   "metadata": {},
   "source": [
    "## 删除字典元素"
   ]
  },
  {
   "cell_type": "code",
   "execution_count": 35,
   "metadata": {},
   "outputs": [
    {
     "name": "stdout",
     "output_type": "stream",
     "text": [
      "删除之前:  {'Name': 'kangshao', 'Age': 24, 'address': 'hz'}\n",
      "删除之后:  {'Age': 24, 'address': 'hz'}\n",
      "清空之后:  {'Name': 'kangshao', 'Age': 30, 'address': 'hz', 'School': '菜鸟教程'}\n"
     ]
    }
   ],
   "source": [
    "dict5 = {'Name': 'kangshao', 'Age': 24, 'address': 'hz'}\n",
    "print (\"删除之前: \", dict5)\n",
    "del dict5['Name'] # 删除键 'Name'  如果用字典里没有的键，会输出错误\n",
    "print (\"删除之后: \", dict5)\n",
    "\n",
    "dict5.clear()     # 清空字典\n",
    "print(\"清空之后: \",dict4)"
   ]
  },
  {
   "cell_type": "markdown",
   "metadata": {},
   "source": [
    "## 字典方法"
   ]
  },
  {
   "cell_type": "code",
   "execution_count": 4,
   "metadata": {},
   "outputs": [
    {
     "name": "stdout",
     "output_type": "stream",
     "text": [
      "None\n",
      "default\n",
      "default\n",
      "True\n",
      "dict_keys(['Name', 'Age', 'address'])\n",
      "dict_values(['kangshao', 24, ''])\n",
      "dict_items([('Name', 'kangshao'), ('Age', 24), ('address', '')])\n"
     ]
    }
   ],
   "source": [
    "dict6 = {'Name': 'kangshao', 'Age': 24, 'address': ''} \n",
    "\n",
    "# 用索引可以找到一个键对应的值，但是当字典中没有这个键的时候Python会报错，这时候可以使用字典的 get 方法来处理这种情况\n",
    "print(dict6.get('Nsme')) \n",
    "print(dict6.get(\"Nase\",\"default\")) # 指定默认值参数\n",
    "\n",
    "# pop pop 方法可以用来删除并返回字典中键 key 对应的值，同时也可以指定默认参数：\n",
    "print(dict6.pop(\"MSN\",\"default\"))\n",
    "\n",
    "print(\"Name\" in dict6)# in 可以用来判断字典中是否有某个特定的键：\n",
    "\n",
    "print(dict6.keys()) # 返回一个由所有键组成的列表；\n",
    "print(dict6.values()) # 返回一个由所有值组成的列表；\n",
    "print(dict6.items()) # 返回一个由所有键值对元组组成的列表；"
   ]
  }
 ],
 "metadata": {
  "kernelspec": {
   "display_name": "Python 3",
   "language": "python",
   "name": "python3"
  },
  "language_info": {
   "codemirror_mode": {
    "name": "ipython",
    "version": 3
   },
   "file_extension": ".py",
   "mimetype": "text/x-python",
   "name": "python",
   "nbconvert_exporter": "python",
   "pygments_lexer": "ipython3",
   "version": "3.7.3"
  }
 },
 "nbformat": 4,
 "nbformat_minor": 2
}
