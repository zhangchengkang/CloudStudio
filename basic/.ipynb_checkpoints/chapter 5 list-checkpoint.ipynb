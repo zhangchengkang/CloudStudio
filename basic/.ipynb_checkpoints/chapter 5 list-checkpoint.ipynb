{
 "cells": [
  {
   "cell_type": "markdown",
   "metadata": {},
   "source": [
    "# Python3 列表"
   ]
  },
  {
   "cell_type": "markdown",
   "metadata": {},
   "source": [
    "## 列表初始化"
   ]
  },
  {
   "cell_type": "code",
   "execution_count": 6,
   "metadata": {},
   "outputs": [
    {
     "name": "stdout",
     "output_type": "stream",
     "text": [
      "['Google', 'kang', 1997, 2000]\n",
      "[0, 1, 2, 3, 4, 5]\n",
      "['a', 'b', 'c', 'd']\n",
      "<class 'list'>\n",
      "len(list1) ：  4\n"
     ]
    }
   ],
   "source": [
    "list1 = ['Google', 'kang', 1997, 2000]\n",
    "list2 = [0,1,2,3,4,5 ]\n",
    "list3 = [\"a\", \"b\", \"c\", \"d\"]\n",
    "print(list1)\n",
    "print(list2)\n",
    "print(list3)\n",
    "print(type(list1))\n",
    "print(\"len(list1) ： \",len(list1)) #列表长度"
   ]
  },
  {
   "cell_type": "markdown",
   "metadata": {},
   "source": [
    "## 访问列表中的值"
   ]
  },
  {
   "cell_type": "code",
   "execution_count": 2,
   "metadata": {},
   "outputs": [
    {
     "name": "stdout",
     "output_type": "stream",
     "text": [
      "list1[0]:  Google\n",
      "list2[1:4]:  [1, 2, 3]\n",
      "list1[0]:  2000\n",
      "list2[1:4]:  [2, 3, 4]\n"
     ]
    }
   ],
   "source": [
    "print (\"list1[0]: \", list1[0])  # 列表索引从0开始\n",
    "print (\"list2[1:4]: \", list2[1:4])  # 前闭后开\n",
    "\n",
    "print (\"list1[0]: \", list1[-1])  #  反向索引\n",
    "print (\"list2[1:4]: \", list2[-4:-1])"
   ]
  },
  {
   "cell_type": "markdown",
   "metadata": {},
   "source": [
    "## 更新列表"
   ]
  },
  {
   "cell_type": "code",
   "execution_count": 7,
   "metadata": {},
   "outputs": [
    {
     "name": "stdout",
     "output_type": "stream",
     "text": [
      "第三个元素为 :  1997\n",
      "更新后的第三个元素为 :  2001\n"
     ]
    }
   ],
   "source": [
    "list4 = ['Google', 'kang', 1997, 2000]\n",
    "\n",
    "print (\"第三个元素为 : \", list4[2])\n",
    "list4[2] = 2001\n",
    "print (\"更新后的第三个元素为 : \", list4[2])"
   ]
  },
  {
   "cell_type": "markdown",
   "metadata": {},
   "source": [
    "## 删除列表元素"
   ]
  },
  {
   "cell_type": "code",
   "execution_count": 8,
   "metadata": {},
   "outputs": [
    {
     "name": "stdout",
     "output_type": "stream",
     "text": [
      "原始列表 :  ['Google', 'kang', 1997, 2000]\n",
      "删除第三个元素 :  ['Google', 'kang', 2000]\n"
     ]
    }
   ],
   "source": [
    "list5 = ['Google', 'kang', 1997, 2000]\n",
    " \n",
    "print (\"原始列表 : \", list5)\n",
    "del list5[2]\n",
    "print (\"删除第三个元素 : \", list5)"
   ]
  },
  {
   "cell_type": "markdown",
   "metadata": {},
   "source": [
    "## 列表运算符"
   ]
  },
  {
   "cell_type": "code",
   "execution_count": 9,
   "metadata": {},
   "outputs": [
    {
     "name": "stdout",
     "output_type": "stream",
     "text": [
      "[1, 2, 3] + [4, 5, 6] :  [1, 2, 3, 4, 5, 6]\n",
      "['Hi!'] * 4 :  ['Hi!', 'Hi!', 'Hi!', 'Hi!']\n",
      "3 in [1, 2, 3] :  True\n",
      "1 2 3 "
     ]
    }
   ],
   "source": [
    "list6 = [0,1,2]\n",
    "list7 = [3,4,5]\n",
    "print(\"[1, 2, 3] + [4, 5, 6] : \",[1, 2, 3] + [4, 5, 6])\n",
    "print(\"['Hi!'] * 4 : \",['Hi!'] * 4)\n",
    "print(\"3 in [1, 2, 3] : \",3 in [1, 2, 3])\n",
    "for x in [1, 2, 3]: print(x, end=\" \")  # 列表迭代输出"
   ]
  },
  {
   "cell_type": "markdown",
   "metadata": {},
   "source": [
    "## 列表方法"
   ]
  },
  {
   "cell_type": "code",
   "execution_count": 10,
   "metadata": {},
   "outputs": [
    {
     "name": "stdout",
     "output_type": "stream",
     "text": [
      "count :  2\n",
      "index :  0\n",
      "sort :  [11, 11, 12, 12, 13]\n",
      "reverse :  [61, 12, 13, 12, 11]\n",
      "append :  [11, 12, 13, 12, 11]\n",
      "insert :  [11, 12, 13, 'a', 12]\n",
      "remove :  [12, 13, 12, 11]\n"
     ]
    }
   ],
   "source": [
    "a = [11, 12, 13, 12, 11]\n",
    "x = [11, 12, 13, 12, 61]\n",
    "b = [11, 12, 13, 12]\n",
    "c = [11, 12, 13, 12]\n",
    "d = [11, 12, 13, 12, 11]\n",
    "\n",
    "print(\"count : \",a.count(11))  #  count(ob) 返回列表中元素 ob 出现的次数。\n",
    "print(\"index : \",a.index(11))  #  ndex(ob) 返回列表中元素 ob 第一次出现的索引位置，如果 ob 不在 list 中会报错。\n",
    "\n",
    "a.sort()\n",
    "print(\"sort : \",a)  #  sort() 会将列表中的元素按照一定的规则排序\n",
    "\n",
    "x.reverse()\n",
    "print(\"reverse : \",x)  #  reverse() 会将列表中的元素从后向前排列。\n",
    "\n",
    "b.append(11)\n",
    "print(\"append : \",b)  # append(ob) 将元素 ob 添加到列表 list 的最后。也可以append(list)，相当于运算符+\n",
    "\n",
    "c.insert(3, 'a')\n",
    "print(\"insert : \",c)  # insert(idx, ob) 在索引 idx 处插入 ob ，之后的元素依次后移。\n",
    "\n",
    "d.remove(11)\n",
    "print(\"remove : \",d)  # emove(ob) 会将列表中第一个出现的 ob 删除，如果 ob 不在 list 中会报错。"
   ]
  }
 ],
 "metadata": {
  "kernelspec": {
   "display_name": "Python 3",
   "language": "python",
   "name": "python3"
  },
  "language_info": {
   "codemirror_mode": {
    "name": "ipython",
    "version": 3
   },
   "file_extension": ".py",
   "mimetype": "text/x-python",
   "name": "python",
   "nbconvert_exporter": "python",
   "pygments_lexer": "ipython3",
   "version": "3.7.3"
  }
 },
 "nbformat": 4,
 "nbformat_minor": 2
}
