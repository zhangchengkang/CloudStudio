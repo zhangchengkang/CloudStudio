{
 "cells": [
  {
   "cell_type": "markdown",
   "metadata": {},
   "source": [
    "# Python3 集合"
   ]
  },
  {
   "cell_type": "code",
   "execution_count": null,
   "metadata": {},
   "outputs": [],
   "source": [
    "# for 循环会遍历完<sequence>中所有元素为止\n",
    "\n",
    "for <variable> in <sequence>:\n",
    "    <indented block of code>\n"
   ]
  },
  {
   "cell_type": "markdown",
   "metadata": {},
   "source": [
    "## 基本用法"
   ]
  },
  {
   "cell_type": "code",
   "execution_count": 1,
   "metadata": {},
   "outputs": [
    {
     "name": "stdout",
     "output_type": "stream",
     "text": [
      "SKII\n",
      "TF\n",
      "MAC\n"
     ]
    }
   ],
   "source": [
    "lipsticks = set(['TF', 'MAC', 'SKII'])\n",
    "for lipstick in lipsticks:\n",
    "    print(lipstick)"
   ]
  },
  {
   "cell_type": "code",
   "execution_count": 5,
   "metadata": {},
   "outputs": [
    {
     "name": "stdout",
     "output_type": "stream",
     "text": [
      "45\n",
      "range(0, 10)\n"
     ]
    }
   ],
   "source": [
    "total = 0\n",
    "for i in range(10):  # range(10) 生成0-10的数列\n",
    "    total += i\n",
    "print (total)"
   ]
  },
  {
   "cell_type": "markdown",
   "metadata": {},
   "source": [
    "## continue 语句"
   ]
  },
  {
   "cell_type": "code",
   "execution_count": 9,
   "metadata": {},
   "outputs": [
    {
     "name": "stdout",
     "output_type": "stream",
     "text": [
      "当前字母为 : z\n",
      "当前字母为 : h\n",
      "当前字母为 : n\n",
      "当前字母为 : g\n"
     ]
    }
   ],
   "source": [
    "for char in 'zhang':\n",
    "    if char == 'a':\n",
    "        continue\n",
    "    print('当前字母为 :',char)"
   ]
  },
  {
   "cell_type": "markdown",
   "metadata": {},
   "source": [
    "## break 语句"
   ]
  },
  {
   "cell_type": "code",
   "execution_count": 7,
   "metadata": {},
   "outputs": [
    {
     "name": "stdout",
     "output_type": "stream",
     "text": [
      "当前字母为 : z\n",
      "当前字母为 : h\n"
     ]
    }
   ],
   "source": [
    "for char in 'zhang':    \n",
    "   if char == 'a':\n",
    "      break\n",
    "   print ('当前字母为 :', char)"
   ]
  },
  {
   "cell_type": "markdown",
   "metadata": {},
   "source": [
    "## else语句"
   ]
  },
  {
   "cell_type": "code",
   "execution_count": 11,
   "metadata": {},
   "outputs": [
    {
     "name": "stdout",
     "output_type": "stream",
     "text": [
      "All values greater than 10\n"
     ]
    }
   ],
   "source": [
    "# 与 if 一样， while 和 for 循环后面也可以跟着 else 语句，不过要和break一起连用。(好奇葩)\n",
    "\n",
    "# 当循环正常结束时，循环条件不满足， else 被执行；\n",
    "values = [11, 12, 13, 100]\n",
    "for x in values:\n",
    "    if x <= 10:\n",
    "        print ('Found:', x)\n",
    "        break\n",
    "else:\n",
    "    print ('All values greater than 10')"
   ]
  },
  {
   "cell_type": "code",
   "execution_count": 12,
   "metadata": {},
   "outputs": [
    {
     "name": "stdout",
     "output_type": "stream",
     "text": [
      "Found: 7\n"
     ]
    }
   ],
   "source": [
    "# 当循环被 break 结束时，循环条件仍然满足， else 不执行。\n",
    "values = [7, 6, 4, 7]\n",
    "for x in values:\n",
    "    if x <= 10:\n",
    "        print ('Found:', x)\n",
    "        break\n",
    "else:\n",
    "    print( 'All values greater than 10')"
   ]
  },
  {
   "cell_type": "markdown",
   "metadata": {},
   "source": [
    "## 课后作业"
   ]
  },
  {
   "cell_type": "code",
   "execution_count": null,
   "metadata": {},
   "outputs": [],
   "source": [
    "# 实现九九乘法表,如下\n",
    "'''\n",
    "1x1=1    \n",
    "1x2=2    2x2=4    \n",
    "1x3=3    2x3=6    3x3=9    \n",
    "1x4=4    2x4=8    3x4=12    4x4=16    \n",
    "1x5=5    2x5=10    3x5=15    4x5=20    5x5=25    \n",
    "1x6=6    2x6=12    3x6=18    4x6=24    5x6=30    6x6=36    \n",
    "1x7=7    2x7=14    3x7=21    4x7=28    5x7=35    6x7=42    7x7=49    \n",
    "1x8=8    2x8=16    3x8=24    4x8=32    5x8=40    6x8=48    7x8=56    8x8=64    \n",
    "1x9=9    2x9=18    3x9=27    4x9=36    5x9=45    6x9=54    7x9=63    8x9=72    9x9=81\n",
    "'''"
   ]
  }
 ],
 "metadata": {
  "kernelspec": {
   "display_name": "Python 3",
   "language": "python",
   "name": "python3"
  },
  "language_info": {
   "codemirror_mode": {
    "name": "ipython",
    "version": 3
   },
   "file_extension": ".py",
   "mimetype": "text/x-python",
   "name": "python",
   "nbconvert_exporter": "python",
   "pygments_lexer": "ipython3",
   "version": "3.7.3"
  }
 },
 "nbformat": 4,
 "nbformat_minor": 2
}
