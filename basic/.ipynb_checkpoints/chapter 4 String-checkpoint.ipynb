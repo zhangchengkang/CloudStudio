{
 "cells": [
  {
   "cell_type": "markdown",
   "metadata": {},
   "source": [
    "# Python3 字符串"
   ]
  },
  {
   "cell_type": "markdown",
   "metadata": {},
   "source": [
    "## 字符串初始化"
   ]
  },
  {
   "cell_type": "code",
   "execution_count": 1,
   "metadata": {},
   "outputs": [
    {
     "name": "stdout",
     "output_type": "stream",
     "text": [
      "str2 :  zhangchengkang\n",
      "type(str2) :  <class 'str'>\n"
     ]
    }
   ],
   "source": [
    "str1 = 'Hello World!'\n",
    "str2 = \"zhangchengkang\"\n",
    "print(\"str2 : \",str2)\n",
    "print(\"type(str2) : \", type(str2))"
   ]
  },
  {
   "cell_type": "markdown",
   "metadata": {},
   "source": [
    "## 字符串运算符"
   ]
  },
  {
   "cell_type": "code",
   "execution_count": 2,
   "metadata": {},
   "outputs": [
    {
     "name": "stdout",
     "output_type": "stream",
     "text": [
      "a + b ： Hello World \n",
      "a * 2 ： Hello Hello \n",
      "a[1] ： e\n",
      "a[1:4] ： ell\n",
      "H in a :  True\n",
      "H not in a :  False\n"
     ]
    }
   ],
   "source": [
    "a = \"Hello \"\n",
    "b = \"World \"\n",
    "print(\"a + b ：\", a + b)\n",
    "print(\"a * 2 ：\", a * 2)\n",
    "print(\"a[1] ：\", a[1])\n",
    "print(\"a[1:4] ：\", a[1:4])  # 左闭右开\n",
    "print(\"H in a : \",\"H\" in a)\n",
    "print(\"H not in a : \",\"H\" not in a)"
   ]
  },
  {
   "cell_type": "markdown",
   "metadata": {},
   "source": [
    "## 字符串操作"
   ]
  },
  {
   "cell_type": "code",
   "execution_count": 3,
   "metadata": {},
   "outputs": [
    {
     "name": "stdout",
     "output_type": "stream",
     "text": [
      "split :  ['a', 'b', 'c', 'd', 'e']\n",
      "join :  a,b,c,d,e\n",
      "replace :   No Hello World \n",
      "upper :   HELLO WORLD \n",
      "lower :   hello world \n",
      "去两端空格 :Hello Worldaaaaa\n",
      "去头部空格 :Hello World aaaaa\n",
      "去尾部空格 : Hello Worldaaaaa\n"
     ]
    }
   ],
   "source": [
    "line = \"a,b,c,d,e\"\n",
    "str4 =\",\"\n",
    "print(\"split : \",line.split(str4))  # 以\",\"为分隔符截取字符串  \n",
    "\n",
    "array = ['a', 'b', 'c', 'd', 'e']\n",
    "print(\"join : \",str4.join(array))  # 以\",\"为分隔符连接数组\n",
    "\n",
    "c = \" Hello World \"\n",
    "print(\"replace : \",c.replace(\"Hello\",\"No Hello\"))  # 用No Hello 替换Hello\n",
    "\n",
    "print(\"upper : \",c.upper())  # 字符串转大写\n",
    "print(\"lower : \",c.lower())  # 字符串转小写\n",
    "\n",
    "print(\"去两端空格 :\"+c.strip()+\"aaaaa\")  # 去两端空格\n",
    "print(\"去头部空格 :\"+c.lstrip()+\"aaaaa\")  # 去头部空格\n",
    "print(\"去尾部空格 :\"+c.rstrip()+\"aaaaa\")  # 去尾部空格"
   ]
  },
  {
   "cell_type": "code",
   "execution_count": 4,
   "metadata": {},
   "outputs": [
    {
     "name": "stdout",
     "output_type": "stream",
     "text": [
      "origin String :  wo bu hui bian de o\n",
      "new String :  WO BU HUI BIAN DE O\n"
     ]
    }
   ],
   "source": [
    "# 请注意：以上方法原字符串值都不会发生改变，只是新生成了一个字符串\n",
    "d = \"wo bu hui bian de o\"\n",
    "e = d.upper()\n",
    "print(\"origin String : \",d)\n",
    "print(\"new String : \",e)"
   ]
  },
  {
   "cell_type": "markdown",
   "metadata": {},
   "source": [
    "## 多行字符串"
   ]
  },
  {
   "cell_type": "code",
   "execution_count": 5,
   "metadata": {},
   "outputs": [
    {
     "name": "stdout",
     "output_type": "stream",
     "text": [
      "hello world.\n",
      "it is a nice day.\n",
      "hello world.it is a nice day.\n"
     ]
    }
   ],
   "source": [
    "f = \"\"\"hello world.\n",
    "it is a nice day.\"\"\"\n",
    "print(f)  # 换行\n",
    "\n",
    "g = \"hello world.\" + \\\n",
    "        \"it is a nice day.\"\n",
    "print (g)  # 不换行"
   ]
  },
  {
   "cell_type": "code",
   "execution_count": null,
   "metadata": {},
   "outputs": [],
   "source": []
  },
  {
   "cell_type": "code",
   "execution_count": null,
   "metadata": {},
   "outputs": [],
   "source": []
  },
  {
   "cell_type": "code",
   "execution_count": null,
   "metadata": {},
   "outputs": [],
   "source": []
  }
 ],
 "metadata": {
  "kernelspec": {
   "display_name": "Python 3",
   "language": "python",
   "name": "python3"
  },
  "language_info": {
   "codemirror_mode": {
    "name": "ipython",
    "version": 3
   },
   "file_extension": ".py",
   "mimetype": "text/x-python",
   "name": "python",
   "nbconvert_exporter": "python",
   "pygments_lexer": "ipython3",
   "version": "3.7.3"
  }
 },
 "nbformat": 4,
 "nbformat_minor": 2
}
