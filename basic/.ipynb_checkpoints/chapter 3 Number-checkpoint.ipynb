{
 "cells": [
  {
   "cell_type": "markdown",
   "metadata": {},
   "source": [
    "# python3数字类型"
   ]
  },
  {
   "cell_type": "markdown",
   "metadata": {},
   "source": [
    "\n",
    "\n",
    "### Python 支持三种不同的数值类型：\n",
    "#### 整型(Int) --- 通常被称为是整型或整数，是正或负整数，不带小数点。Python3 整型是没有限制大小的，可以当作 Long 类型使用，所以 Python3 没有 Python2 的 Long 类型。\n",
    "#### 浮点型(float) --- 浮点型由整数部分与小数部分组成，浮点型也可以使用科学计数法表示（2.5e2 = 2.5 x 102 = 250）\n",
    "#### 复数(complex) --- 复数由实数部分和虚数部分构成，可以用a + bj,或者complex(a,b)表示， 复数的实部a和虚部b都是浮点型。"
   ]
  },
  {
   "cell_type": "code",
   "execution_count": null,
   "metadata": {},
   "outputs": [],
   "source": [
    "import math\n",
    "import random"
   ]
  },
  {
   "cell_type": "markdown",
   "metadata": {},
   "source": [
    "## 数值初始化"
   ]
  },
  {
   "cell_type": "code",
   "execution_count": 5,
   "metadata": {},
   "outputs": [
    {
     "name": "stdout",
     "output_type": "stream",
     "text": [
      "10\n",
      "10.0\n",
      "3.14j\n"
     ]
    }
   ],
   "source": [
    "intNum = 10  # int  intNum-变量名    10-变量值\n",
    "floatNum = 10.0  # float\n",
    "complexNum = 3.14j  # complex\n",
    "\n",
    "print(intNum)\n",
    "print(floatNum)\n",
    "print(complexNum)"
   ]
  },
  {
   "cell_type": "code",
   "execution_count": 6,
   "metadata": {},
   "outputs": [
    {
     "name": "stdout",
     "output_type": "stream",
     "text": [
      "type(intNum):  <class 'int'>\n",
      "type(floatNum):  <class 'float'>\n",
      "type(complexNum):  <class 'complex'>\n"
     ]
    }
   ],
   "source": [
    "# type() 查询变量所指的对象类型\n",
    "print(\"type(intNum): \", type(intNum))\n",
    "print(\"type(floatNum): \", type(floatNum))\n",
    "print(\"type(complexNum): \", type(complexNum))"
   ]
  },
  {
   "cell_type": "code",
   "execution_count": 7,
   "metadata": {},
   "outputs": [
    {
     "name": "stdout",
     "output_type": "stream",
     "text": [
      "pi :  3.141592653589793\n",
      "e :  2.718281828459045\n"
     ]
    }
   ],
   "source": [
    "# 数学常量\n",
    "print(\"pi : \", math.pi)\n",
    "print(\"e : \", math.e)"
   ]
  },
  {
   "cell_type": "markdown",
   "metadata": {},
   "source": [
    "## Python 数字类型转换"
   ]
  },
  {
   "cell_type": "code",
   "execution_count": 8,
   "metadata": {},
   "outputs": [
    {
     "name": "stdout",
     "output_type": "stream",
     "text": [
      "int(floatNum):  10\n",
      "float(intNum):  10.0\n",
      "complex(floatNum):  (10+0j)\n",
      "complex(intNum,floatNum):  (10+10j)\n"
     ]
    }
   ],
   "source": [
    "\n",
    "\n",
    "print(\"int(floatNum): \", int(floatNum))  # int(x) 将x转换为一个整数。\n",
    "print(\"float(intNum): \", float(intNum))  # float(x) 将x转换到一个浮点数。\n",
    "# complex(x) 将x转换到一个复数，实数部分为 x，虚数部分为 0。\n",
    "print(\"complex(floatNum): \", complex(floatNum))\n",
    "# complex(x, y) 将 x 和 y 转换到一个复数，实数部分为 x，虚数部分为 y。x 和 y 是数字表达式。\n",
    "print(\"complex(intNum,floatNum): \", complex(intNum, floatNum))"
   ]
  },
  {
   "cell_type": "markdown",
   "metadata": {},
   "source": [
    "## Python 数学函数 "
   ]
  },
  {
   "cell_type": "code",
   "execution_count": 9,
   "metadata": {},
   "outputs": [
    {
     "name": "stdout",
     "output_type": "stream",
     "text": [
      "abs(c):  10\n",
      "math.fabs(c):  10.0\n",
      "math.ceil(e):  4\n",
      "math.floor(e):  3\n",
      "math.exp(1):  2.718281828459045\n",
      "math.log(a):  2.302585092994046\n",
      "math.log10(b):  1.3010299956639813\n",
      "max(d):  8\n",
      "min(d):  0\n",
      "math.modf(e):  (0.33000000000000007, 3.0)\n",
      "math.pow(c):  1e+20\n",
      "round(e):  3.3\n",
      "round(e):  3\n",
      "math.sqrt(a):  3.1622776601683795\n"
     ]
    }
   ],
   "source": [
    "a = 10\n",
    "b = 20\n",
    "c = -10\n",
    "d = [1, 2, 5, 8, 0]\n",
    "e = 3.33\n",
    "print(\"abs(c): \", abs(c))  # 返回数字的绝对值\n",
    "print(\"math.fabs(c): \", math.fabs(c))  # 返回数字的绝对值\n",
    "print(\"math.ceil(e): \", math.ceil(e))  # 返回数字的上入整数\n",
    "print(\"math.floor(e): \", math.floor(e))  # 返回数字的下舍整数\n",
    "print(\"math.exp(1): \", math.exp(1))  # exp(x)返回e的x次幂(ex)\n",
    "print(\"math.log(a): \", math.log(a))# log() 方法返回x的自然对数，x > 0。 如math.log(math.e)返回1.0,math.log(100,10)返回2.0\n",
    "print(\"math.log10(b): \", math.log10(b))  # 返回以10为基数的x的对数，如math.log10(100)返回 2.0\n",
    "print(\"max(d): \", max(d))  # 返回给定参数的最大值，参数可以为序列。\n",
    "print(\"min(d): \", min(d))  # 返回给定参数的最小值，参数可以为序列。\n",
    "print(\"math.modf(e): \", math.modf(e))  # 返回x的整数部分与小数部分，两部分的数值符号与x相同，整数部分以浮点型表示。\n",
    "print(\"math.pow(c): \", math.pow(a, b))  # a**b 运算后的值。\n",
    "print(\"round(e): \", round(e, 1))   # 返回浮点数x的四舍五入值，如给出n值，则代表舍入到小数点后的位数。\n",
    "print(\"round(e): \", round(e))\n",
    "print(\"math.sqrt(a): \", math.sqrt(a))  # 返回数字x的平方根。"
   ]
  },
  {
   "cell_type": "markdown",
   "metadata": {},
   "source": [
    "## 随机数函数"
   ]
  },
  {
   "cell_type": "code",
   "execution_count": 10,
   "metadata": {},
   "outputs": [
    {
     "name": "stdout",
     "output_type": "stream",
     "text": [
      "从列表中 [1, 2, 3, 5, 9]) 返回一个随机元素 :  9\n",
      "从字符串中 'Kang' 返回一个随机字符 :  a\n",
      "从 1-99 中选取一个奇数 :  39\n",
      "从 0-99 选取一个随机数 :  71\n",
      "[0,1) :  0.1997109998441169\n",
      "[0,10) :  0.4337336171531936\n",
      "(5, 10)  :  8.77881103239167\n",
      "(7, 14)  :  9.037254326387128\n",
      "对 123456789随机排序 ： [5, 3, 6, 2, 7, 8, 9, 4, 1]\n"
     ]
    }
   ],
   "source": [
    "# random.choice\n",
    "print (\"从列表中 [1, 2, 3, 5, 9]) 返回一个随机元素 : \", random.choice([1, 2, 3, 5, 9]))\n",
    "print (\"从字符串中 'Kang' 返回一个随机字符 : \", random.choice('Kang'))\n",
    "\n",
    "# randrange ([start,] stop [,step]) 返回指定递增基数集合中的一个随机数，基数缺省值为1。\n",
    "'''\n",
    "start -- 指定范围内的开始值，包含在范围内。\n",
    "stop -- 指定范围内的结束值，不包含在范围内。\n",
    "step -- 指定递增基数。\n",
    "'''\n",
    "print (\"从 1-99 中选取一个奇数 : \", random.randrange(1, 100, 2))\n",
    "print (\"从 0-99 选取一个随机数 : \", random.randrange(100))\n",
    "\n",
    "# random() 返回随机生成的一个实数，它在[0,1)范围内。\n",
    "print (\"[0,1) : \", random.random())\n",
    "print (\"[0,10) : \", random.random()*10)\n",
    "\n",
    "# uniform() 方法将随机生成下一个实数，它在 [x,y] 范围内。\n",
    "print (\"(5, 10)  : \",  random.uniform(5, 10))\n",
    "print (\"(7, 14)  : \",  random.uniform(7, 14))\n",
    "\n",
    "# random.shuffle (lst)  将序列的所有元素随机排序。\n",
    "list = [1, 2, 3, 4, 5, 6, 7, 8, 9]\n",
    "random.shuffle(list)\n",
    "print(\"对 123456789随机排序 ：\", list)"
   ]
  },
  {
   "cell_type": "markdown",
   "metadata": {},
   "source": [
    "## 三角函数"
   ]
  },
  {
   "cell_type": "code",
   "execution_count": 11,
   "metadata": {},
   "outputs": [
    {
     "name": "stdout",
     "output_type": "stream",
     "text": [
      "acos(0) :  1.5707963267948966\n",
      "acos(-1) :  3.141592653589793\n",
      "asin(0) :  0.0\n",
      "asin(-1) :  -1.5707963267948966\n",
      "atan(0) :  0.0\n",
      "atan(10) :  1.4711276743037347\n",
      "atan2(5,5) :  0.7853981633974483\n",
      "atan2(-10,10) :  -0.7853981633974483\n",
      "cos(3) :  -0.9899924966004454\n",
      "cos(-3) :  -0.9899924966004454\n",
      "sin(3) :  0.1411200080598672\n",
      "sin(-3) :  -0.1411200080598672\n",
      "(tan(3) :  -0.1425465430742778\n",
      "tan(-3) :  0.1425465430742778\n",
      "hypot(3, 2) :  3.605551275463989\n",
      "hypot(-3, 3) :  4.242640687119285\n",
      "degrees(3) :  171.88733853924697\n",
      "degrees(math.pi/2) :  90.0\n",
      "radians(math.pi) :  0.05483113556160755\n",
      "radians(3) :  0.05235987755982989\n"
     ]
    }
   ],
   "source": [
    "# acos(x) 返回x的反余弦弧度值。\n",
    "print (\"acos(0) : \",  math.acos(0))\n",
    "print (\"acos(-1) : \",  math.acos(-1))\n",
    "\n",
    "# asin(x) 返回x的反正弦弧度值。\n",
    "print (\"asin(0) : \",  math.asin(0))\n",
    "print (\"asin(-1) : \",  math.asin(-1))\n",
    "\n",
    "# atan(x) 返回x的反正切弧度值。\n",
    "print (\"atan(0) : \",  math.atan(0))\n",
    "print (\"atan(10) : \",  math.atan(10))\n",
    "\n",
    "# atan2(x ,y) 返回给定的 X 及 Y 坐标值的反正切值。\n",
    "print (\"atan2(5,5) : \",  math.atan2(5, 5))\n",
    "print (\"atan2(-10,10) : \",  math.atan2(-10, 10))\n",
    "\n",
    "# cos(x) 返回x的弧度的余弦值。\n",
    "print (\"cos(3) : \",  math.cos(3))\n",
    "print (\"cos(-3) : \",  math.cos(-3))\n",
    "\n",
    "# sin(x) 返回的x弧度的正弦值。\n",
    "print (\"sin(3) : \",  math.sin(3))\n",
    "print (\"sin(-3) : \",  math.sin(-3))\n",
    "\n",
    "# tan(x) 返回 x 弧度的正切值。\n",
    "print (\"(tan(3) : \",  math.tan(3))\n",
    "print (\"tan(-3) : \",  math.tan(-3))\n",
    "\n",
    "# hypot(x,y) 返回欧几里德范数 sqrt(x*x + y*y)\n",
    "print (\"hypot(3, 2) : \",  math.hypot(3, 2))\n",
    "print (\"hypot(-3, 3) : \",  math.hypot(-3, 3))\n",
    "\n",
    "# degrees(x) 将弧度转换为角度。\n",
    "print (\"degrees(3) : \",  math.degrees(3))\n",
    "print (\"degrees(math.pi/2) : \",  math.degrees(math.pi/2))\n",
    "\n",
    "# radians(x) 方法将角度转换为弧度。\n",
    "print (\"radians(math.pi) : \",  math.radians(math.pi))\n",
    "print (\"radians(3) : \",  math.radians(3))"
   ]
  },
  {
   "cell_type": "markdown",
   "metadata": {},
   "source": [
    "## 课后作业"
   ]
  },
  {
   "cell_type": "code",
   "execution_count": null,
   "metadata": {},
   "outputs": [],
   "source": [
    "#  计算三角形的面积\n",
    "# 要求:用户输入三角形的三条边长,程序输出三角形的面积"
   ]
  },
  {
   "cell_type": "code",
   "execution_count": null,
   "metadata": {},
   "outputs": [],
   "source": [
    "# 计算圆的面积\n",
    "# 要求:用户输入半径,程序输出圆的面积"
   ]
  },
  {
   "cell_type": "code",
   "execution_count": null,
   "metadata": {},
   "outputs": [],
   "source": []
  },
  {
   "cell_type": "code",
   "execution_count": null,
   "metadata": {},
   "outputs": [],
   "source": []
  }
 ],
 "metadata": {
  "kernelspec": {
   "display_name": "Python 3",
   "language": "python",
   "name": "python3"
  },
  "language_info": {
   "codemirror_mode": {
    "name": "ipython",
    "version": 3
   },
   "file_extension": ".py",
   "mimetype": "text/x-python",
   "name": "python",
   "nbconvert_exporter": "python",
   "pygments_lexer": "ipython3",
   "version": "3.7.3"
  }
 },
 "nbformat": 4,
 "nbformat_minor": 2
}
