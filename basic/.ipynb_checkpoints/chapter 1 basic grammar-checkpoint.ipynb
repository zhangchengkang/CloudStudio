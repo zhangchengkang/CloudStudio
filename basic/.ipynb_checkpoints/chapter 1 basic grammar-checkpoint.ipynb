{
 "cells": [
  {
   "cell_type": "markdown",
   "metadata": {},
   "source": [
    "# python3基础语法"
   ]
  },
  {
   "cell_type": "code",
   "execution_count": 2,
   "metadata": {},
   "outputs": [
    {
     "name": "stdout",
     "output_type": "stream",
     "text": [
      "python输出语法\n"
     ]
    }
   ],
   "source": [
    "# Print 输出 ,会在控制台打印输出内容,也就是下方\n",
    "print(\"Heoll World\")"
   ]
  },
  {
   "cell_type": "code",
   "execution_count": 12,
   "metadata": {},
   "outputs": [
    {
     "name": "stdout",
     "output_type": "stream",
     "text": [
      "Heoll World\n"
     ]
    }
   ],
   "source": [
    "# print 默认输出是换行的，如果要实现不换行需要在变量末尾加上 end=\"\"：(python 3才行)\n",
    "print( \"Heoll\", end=\" \" )\n",
    "print(\"World\")"
   ]
  },
  {
   "cell_type": "code",
   "execution_count": 1,
   "metadata": {
    "scrolled": false
   },
   "outputs": [
    {
     "name": "stdout",
     "output_type": "stream",
     "text": [
      "单行注释\n"
     ]
    }
   ],
   "source": [
    "# 注释\n",
    "print(\"单行注释\")"
   ]
  },
  {
   "cell_type": "code",
   "execution_count": 7,
   "metadata": {},
   "outputs": [
    {
     "name": "stdout",
     "output_type": "stream",
     "text": [
      "行尾注释\n"
     ]
    }
   ],
   "source": [
    "print(\"行尾注释\")# 行尾注释"
   ]
  },
  {
   "cell_type": "code",
   "execution_count": 2,
   "metadata": {},
   "outputs": [
    {
     "name": "stdout",
     "output_type": "stream",
     "text": [
      "多行注释\n"
     ]
    }
   ],
   "source": [
    "\"\"\"\n",
    "多行注释\n",
    "英文双引号\n",
    "\"\"\"\n",
    "print(\"多行注释\")"
   ]
  },
  {
   "cell_type": "code",
   "execution_count": 3,
   "metadata": {},
   "outputs": [
    {
     "name": "stdout",
     "output_type": "stream",
     "text": [
      "多行注释\n"
     ]
    }
   ],
   "source": [
    "'''\n",
    "多行注释\n",
    "英文单引号\n",
    "'''\n",
    "print(\"多行注释\")"
   ]
  },
  {
   "cell_type": "code",
   "execution_count": 4,
   "metadata": {},
   "outputs": [
    {
     "name": "stdout",
     "output_type": "stream",
     "text": [
      "TRUE\n"
     ]
    }
   ],
   "source": [
    "# 缩进\n",
    "# python最具特色的就是使用缩进来表示代码块，不需要使用大括号 {}\n",
    "# 缩进的空格数是可变的，但是同一个代码块的语句必须包含相同的缩进空格数。实例如下：\n",
    "if True:\n",
    "    print (\"TRUE\")\n",
    "else:\n",
    "    print (\"FALSE\")"
   ]
  },
  {
   "cell_type": "code",
   "execution_count": 15,
   "metadata": {},
   "outputs": [
    {
     "ename": "IndentationError",
     "evalue": "unindent does not match any outer indentation level (<tokenize>, line 7)",
     "output_type": "error",
     "traceback": [
      "\u001b[1;36m  File \u001b[1;32m\"<tokenize>\"\u001b[1;36m, line \u001b[1;32m7\u001b[0m\n\u001b[1;33m    print(\"FALSE\")\u001b[0m\n\u001b[1;37m    ^\u001b[0m\n\u001b[1;31mIndentationError\u001b[0m\u001b[1;31m:\u001b[0m unindent does not match any outer indentation level\n"
     ]
    }
   ],
   "source": [
    "# 以下代码最后一行语句缩进数的空格数不一致，会导致运行错误：\n",
    "if True:\n",
    "    print (\"Answer\")4\n",
    "    print(\"TRUE\")\n",
    "else:\n",
    "    print (\"Answer\")\n",
    "  print(\"FALSE\")"
   ]
  },
  {
   "cell_type": "code",
   "execution_count": 5,
   "metadata": {},
   "outputs": [
    {
     "name": "stdout",
     "output_type": "stream",
     "text": [
      "item_one item_two item_three\n",
      "['item_one', 'item_two', 'item_three', 'item_four', 'item_five']\n",
      "HELLO\n",
      "World\n"
     ]
    }
   ],
   "source": [
    "# 多行语句\n",
    "# Python 通常是一行写完一条语句，但如果语句很长，我们可以使用反斜杠(\\)来实现多行语句，例如：\n",
    "total = \"item_one \" + \\\n",
    "        \"item_two \" + \\\n",
    "        \"item_three\"\n",
    "print (total)\n",
    "\n",
    "# 在 [], {}, 或 () 中的多行语句，不需要使用反斜杠(\\)，例如：\n",
    "total = ['item_one', 'item_two', 'item_three',\n",
    "         'item_four', 'item_five']\n",
    "print (total)\n",
    "\n",
    "# 同一行显示多条语句\n",
    "# Python可以在同一行中使用多条语句，语句之间使用分号(;)分割\n",
    "x = 'World';print(\"HELLO\");print(x)"
   ]
  },
  {
   "cell_type": "code",
   "execution_count": 23,
   "metadata": {
    "scrolled": true
   },
   "outputs": [
    {
     "name": "stdout",
     "output_type": "stream",
     "text": [
      "命令行参数为: c:\\users\\admin.lenovol-o36rcu2\\appdata\\local\\programs\\python\\python37\\lib\\site-packages\\ipykernel_launcher.py\n",
      "-f\n",
      "C:\\Users\\Admin.LENOVOL-O36RCU2\\AppData\\Roaming\\jupyter\\runtime\\kernel-9635ef0c-e348-4780-8e6a-f6860cda7ea1.json\n",
      "\n",
      " python 路径为 ['C:\\\\Users\\\\Admin.LENOVOL-O36RCU2', 'c:\\\\users\\\\admin.lenovol-o36rcu2\\\\appdata\\\\local\\\\programs\\\\python\\\\python37\\\\python37.zip', 'c:\\\\users\\\\admin.lenovol-o36rcu2\\\\appdata\\\\local\\\\programs\\\\python\\\\python37\\\\DLLs', 'c:\\\\users\\\\admin.lenovol-o36rcu2\\\\appdata\\\\local\\\\programs\\\\python\\\\python37\\\\lib', 'c:\\\\users\\\\admin.lenovol-o36rcu2\\\\appdata\\\\local\\\\programs\\\\python\\\\python37', '', 'c:\\\\users\\\\admin.lenovol-o36rcu2\\\\appdata\\\\local\\\\programs\\\\python\\\\python37\\\\lib\\\\site-packages', 'c:\\\\users\\\\admin.lenovol-o36rcu2\\\\appdata\\\\local\\\\programs\\\\python\\\\python37\\\\lib\\\\site-packages\\\\IPython\\\\extensions', 'C:\\\\Users\\\\Admin.LENOVOL-O36RCU2\\\\.ipython']\n",
      "path: ['C:\\\\Users\\\\Admin.LENOVOL-O36RCU2', 'c:\\\\users\\\\admin.lenovol-o36rcu2\\\\appdata\\\\local\\\\programs\\\\python\\\\python37\\\\python37.zip', 'c:\\\\users\\\\admin.lenovol-o36rcu2\\\\appdata\\\\local\\\\programs\\\\python\\\\python37\\\\DLLs', 'c:\\\\users\\\\admin.lenovol-o36rcu2\\\\appdata\\\\local\\\\programs\\\\python\\\\python37\\\\lib', 'c:\\\\users\\\\admin.lenovol-o36rcu2\\\\appdata\\\\local\\\\programs\\\\python\\\\python37', '', 'c:\\\\users\\\\admin.lenovol-o36rcu2\\\\appdata\\\\local\\\\programs\\\\python\\\\python37\\\\lib\\\\site-packages', 'c:\\\\users\\\\admin.lenovol-o36rcu2\\\\appdata\\\\local\\\\programs\\\\python\\\\python37\\\\lib\\\\site-packages\\\\IPython\\\\extensions', 'C:\\\\Users\\\\Admin.LENOVOL-O36RCU2\\\\.ipython']\n"
     ]
    }
   ],
   "source": [
    "# import 与 from...import\n",
    "'''\n",
    "在 python 用 import 或者 from...import 来导入相应的模块。\n",
    "将整个模块(somemodule)导入，格式为： import somemodule\n",
    "从某个模块中导入某个函数,格式为： from somemodule import somefunction\n",
    "从某个模块中导入多个函数,格式为： from somemodule import firstfunc, secondfunc, thirdfunc\n",
    "将某个模块中的全部函数导入，格式为： from somemodule import *\n",
    "'''\n",
    "\n",
    "# 导入sys模块\n",
    "import sys\n",
    "\n",
    "print ('命令行参数为:', end=\" \" )\n",
    "for i in sys.argv:\n",
    "    print (i)\n",
    "print ('\\n python 路径为',sys.path)\n",
    "\n",
    "\n",
    "# 导入 sys 模块的 argv,path 成员\n",
    "from sys import argv,path\n",
    " \n",
    "print('path:',path) # 因为已经导入path成员，所以此处引用时不需要加sys.path\n"
   ]
  },
  {
   "cell_type": "code",
   "execution_count": 20,
   "metadata": {},
   "outputs": [],
   "source": [
    "# 命令行参数\n",
    "# 很多程序可以执行一些操作来查看一些基本信息，Python可以使用-h参数查看各参数帮助信息：\n",
    "# $ python -h"
   ]
  }
 ],
 "metadata": {
  "kernelspec": {
   "display_name": "Python 3",
   "language": "python",
   "name": "python3"
  },
  "language_info": {
   "codemirror_mode": {
    "name": "ipython",
    "version": 3
   },
   "file_extension": ".py",
   "mimetype": "text/x-python",
   "name": "python",
   "nbconvert_exporter": "python",
   "pygments_lexer": "ipython3",
   "version": "3.7.3"
  }
 },
 "nbformat": 4,
 "nbformat_minor": 2
}
