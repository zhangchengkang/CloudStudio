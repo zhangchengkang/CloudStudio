{
 "cells": [
  {
   "cell_type": "markdown",
   "metadata": {},
   "source": [
    "# python3运算符"
   ]
  },
  {
   "cell_type": "markdown",
   "metadata": {},
   "source": [
    "## Python算术运算符"
   ]
  },
  {
   "cell_type": "code",
   "execution_count": 1,
   "metadata": {},
   "outputs": [
    {
     "name": "stdout",
     "output_type": "stream",
     "text": [
      "a+b:  31\n",
      "a-b:  11\n",
      "a*b:  210\n",
      "a/b:  2.1\n",
      "a%b:  1\n",
      "a**b:  16679880978201\n",
      "a//b:  2\n"
     ]
    }
   ],
   "source": [
    "a = 21\n",
    "b = 10\n",
    "print(\"a+b: \", a+b)\n",
    "print(\"a-b: \", a-b)\n",
    "print(\"a*b: \", a*b)\n",
    "print(\"a/b: \", a/b)\n",
    "print(\"a%b: \", a % b)\n",
    "print(\"a**b: \", a**b)\n",
    "print(\"a//b: \", a//b)"
   ]
  },
  {
   "cell_type": "markdown",
   "metadata": {},
   "source": [
    "## Python比较运算符"
   ]
  },
  {
   "cell_type": "code",
   "execution_count": 14,
   "metadata": {},
   "outputs": [
    {
     "name": "stdout",
     "output_type": "stream",
     "text": [
      "a==b:  False\n",
      "a!=b:  True\n",
      "a>b:  True\n",
      "a<b:  False\n",
      "a>=b:  True\n",
      "a<=b:  False\n"
     ]
    }
   ],
   "source": [
    "a = 21\n",
    "b = 10\n",
    "print(\"a==b: \", a == b)\n",
    "print(\"a!=b: \", a != b)\n",
    "print(\"a>b: \", a > b)\n",
    "print(\"a<b: \", a < b)\n",
    "print(\"a>=b: \", a >= b)\n",
    "print(\"a<=b: \", a <= b)"
   ]
  },
  {
   "cell_type": "markdown",
   "metadata": {},
   "source": [
    "## Python赋值运算符"
   ]
  },
  {
   "cell_type": "code",
   "execution_count": 15,
   "metadata": {},
   "outputs": [
    {
     "name": "stdout",
     "output_type": "stream",
     "text": [
      "2\n",
      "-2\n"
     ]
    }
   ],
   "source": [
    "c = 2\n",
    "\n",
    "# d += c 等效于 d = d + c\n",
    "d = 0\n",
    "d += c\n",
    "print(d)\n",
    "\n",
    "# d -= c 等效于 d = d - c  （*= /= %= 都类似），可以自己敲着试试\n",
    "d = 0\n",
    "d -= c\n",
    "print(d)"
   ]
  },
  {
   "cell_type": "markdown",
   "metadata": {},
   "source": [
    "## Python位运算符"
   ]
  },
  {
   "cell_type": "code",
   "execution_count": 17,
   "metadata": {},
   "outputs": [
    {
     "name": "stdout",
     "output_type": "stream",
     "text": [
      "e&f:  12\n",
      "e|f:  61\n",
      "e^f:  49\n",
      "~f:  -14\n",
      "e<<2:  240\n",
      "e>>2:  15\n"
     ]
    }
   ],
   "source": [
    "e = 60  # 60 = 0011 1100\n",
    "f = 13  # 13 = 0000 1101\n",
    "print(\"e&f: \", e & f)  # 按位与运算符：参与运算的两个值,如果两个相应位都为1,则该位的结果为1,否则为0\n",
    "print(\"e|f: \", e | f)  # 按位或运算符：只要对应的二个二进位有一个为1时，结果位就为1。\n",
    "print(\"e^f: \", e ^ f)  # 按位异或运算符：当两对应的二进位相异时，结果为1\n",
    "print(\"~f: \",  ~ f)  # 按位取反运算符：对数据的每个二进制位取反,即把1变为0,把0变为1。~x 类似于 -x-1\n",
    "print(\"e<<2: \",   e << 2)  # 左移动运算符：运算数的各二进位全部左移若干位，由\"<<\"右边的数指定移动的位数，高位丢弃，低位补0。\n",
    "print(\"e>>2: \",  e >> 2)  # 右移动运算符：把\">>\"左边的运算数的各二进位全部右移若干位，\">>\"右边的数指定移动的位数"
   ]
  },
  {
   "cell_type": "markdown",
   "metadata": {},
   "source": [
    "## Python逻辑运算符"
   ]
  },
  {
   "cell_type": "code",
   "execution_count": 18,
   "metadata": {},
   "outputs": [
    {
     "name": "stdout",
     "output_type": "stream",
     "text": [
      "g and h:  20\n",
      "i and j:  False\n",
      "g or h:  10\n",
      "i or j:  True\n",
      "not g:  False\n",
      "not h:  False\n",
      "not i:  False\n",
      "not j:  True\n"
     ]
    }
   ],
   "source": [
    "g = 10\n",
    "h = 20\n",
    "i = True\n",
    "j = False\n",
    "print(\"g and h: \", g and h)  # 布尔\"与\"  如果 x 为 False，x and y 返回 False，否则它返回y的计算值\n",
    "print(\"i and j: \", i and j)\n",
    "print(\"g or h: \", g or h)  # 布尔\"或\"  如果 x 是 True，它返回 x 的值，否则它返回 y 的计算值。\n",
    "print(\"i or j: \", i or j)\n",
    "print(\"not g: \", not g)  # 布尔\"非\"  如果 x 为 True，返回 False。如果 x 为False, 它返回True\n",
    "print(\"not h: \", not h)\n",
    "print(\"not i: \", not i)\n",
    "print(\"not j: \", not j)"
   ]
  },
  {
   "cell_type": "markdown",
   "metadata": {},
   "source": [
    "## Python成员运算符"
   ]
  },
  {
   "cell_type": "code",
   "execution_count": 19,
   "metadata": {},
   "outputs": [
    {
     "name": "stdout",
     "output_type": "stream",
     "text": [
      "k in list:  True\n",
      "k not in list:  False\n",
      "m in list:  False\n",
      "m not in list:  True\n"
     ]
    }
   ],
   "source": [
    "k = 10\n",
    "m = 20\n",
    "list = [3, 6, 9, 10, 15]\n",
    "print(\"k in list: \", k in list)\n",
    "print(\"k not in list: \", k not in list)\n",
    "print(\"m in list: \", m in list)\n",
    "print(\"m not in list: \", m not in list)\n"
   ]
  },
  {
   "cell_type": "markdown",
   "metadata": {},
   "source": [
    "## Python身份运算符"
   ]
  },
  {
   "cell_type": "code",
   "execution_count": 21,
   "metadata": {},
   "outputs": [
    {
     "name": "stdout",
     "output_type": "stream",
     "text": [
      "n is o:  True\n",
      "n is not o:  False\n",
      "id(n):  140715440760048\n",
      "id(o):  140715440760048\n",
      "id(n) is id(o):  False\n",
      "id(n) == id(o):  True\n"
     ]
    }
   ],
   "source": [
    "# id() 函数用于获取对象内存地址。\n",
    "# is 用于比较内存地址，==比较值\n",
    "n = 20\n",
    "o = 20\n",
    "print(\"n is o: \", n is o)\n",
    "print(\"n is not o: \", n is not o)\n",
    "print(\"id(n): \", id(n))\n",
    "print(\"id(o): \", id(o))\n",
    "print(\"id(n) is id(o): \", id(n) is id(o))  # why？？？\n",
    "print(\"id(n) == id(o): \", id(n) == id(o))"
   ]
  }
 ],
 "metadata": {
  "kernelspec": {
   "display_name": "Python 3",
   "language": "python",
   "name": "python3"
  },
  "language_info": {
   "codemirror_mode": {
    "name": "ipython",
    "version": 3
   },
   "file_extension": ".py",
   "mimetype": "text/x-python",
   "name": "python",
   "nbconvert_exporter": "python",
   "pygments_lexer": "ipython3",
   "version": "3.7.3"
  }
 },
 "nbformat": 4,
 "nbformat_minor": 2
}
