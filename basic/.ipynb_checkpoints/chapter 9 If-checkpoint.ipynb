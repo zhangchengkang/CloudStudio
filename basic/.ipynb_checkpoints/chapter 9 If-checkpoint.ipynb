{
 "cells": [
  {
   "cell_type": "markdown",
   "metadata": {},
   "source": [
    "# Python3 条件控制"
   ]
  },
  {
   "cell_type": "code",
   "execution_count": 8,
   "metadata": {},
   "outputs": [
    {
     "data": {
      "text/plain": [
       "'\\n如果 \"condition_1\" 为 True 将执行 \"statement_block_1,2\" 块语句\\n如果 \"condition_1\" 为False，将判断 \"condition_2\"\\n如果\"condition_2\" 为 True 将执行 \"statement_block_3\" 块语句\\n如果 \"condition_2\" 为False，将执行\"statement_block_4块语句\\n'"
      ]
     },
     "execution_count": 8,
     "metadata": {},
     "output_type": "execute_result"
    }
   ],
   "source": [
    "# 一个完整的 if 结构通常如下所示（注意：条件后的 : 是必须要的，缩进值需要一样）：\n",
    "'''\n",
    "if condition_1:\n",
    "    statement_block_1\n",
    "    statement_block_2\n",
    "elif condition_2:\n",
    "   statement_block_3\n",
    "else:\n",
    "   statement_block_4\n",
    "'''\n",
    "\n",
    "'''\n",
    "如果 \"condition_1\" 为 True 将执行 \"statement_block_1,2\" 块语句\n",
    "如果 \"condition_1\" 为False，将判断 \"condition_2\"\n",
    "如果\"condition_2\" 为 True 将执行 \"statement_block_3\" 块语句\n",
    "如果 \"condition_2\" 为False，将执行\"statement_block_4块语句\n",
    "'''"
   ]
  },
  {
   "cell_type": "markdown",
   "metadata": {},
   "source": [
    "## if 基本用法"
   ]
  },
  {
   "cell_type": "code",
   "execution_count": 11,
   "metadata": {},
   "outputs": [
    {
     "name": "stdout",
     "output_type": "stream",
     "text": [
      "x > 0\n"
     ]
    }
   ],
   "source": [
    "# 判断，基于一定的条件，决定是否要执行特定的一段代码\n",
    "x = 0.5\n",
    "if x > 0:\n",
    "    print (\"x > 0\")\n",
    "else:\n",
    "    print(\"x < 0\")"
   ]
  },
  {
   "cell_type": "code",
   "execution_count": 16,
   "metadata": {},
   "outputs": [
    {
     "name": "stdout",
     "output_type": "stream",
     "text": [
      "y > 0\n",
      "I will always carry it out\n"
     ]
    }
   ],
   "source": [
    "# 虽然都是用 if 关键词定义判断，但与C，Java等语言不同，Python使用的是缩进方法。\n",
    "# Python不使用 {} 将 if 语句控制的区域包含起来。同时，也不需要用 () 将判断条件括起来。\n",
    "y = 0.5\n",
    "if y > 0:\n",
    "    print (\"y > 0\")\n",
    "elif y == 0:\n",
    "    print(\"y = 0\")\n",
    "else:\n",
    "    print(\"y < 0\")\n",
    "print(\"I will always carry it out\") # 这句并不是if语句中的内容，所以不管条件满不满足，它都会被执行"
   ]
  },
  {
   "cell_type": "markdown",
   "metadata": {},
   "source": [
    "##  if 条件"
   ]
  },
  {
   "cell_type": "code",
   "execution_count": 27,
   "metadata": {},
   "outputs": [
    {
     "ename": "IndentationError",
     "evalue": "unindent does not match any outer indentation level (<tokenize>, line 20)",
     "output_type": "error",
     "traceback": [
      "\u001b[1;36m  File \u001b[1;32m\"<tokenize>\"\u001b[1;36m, line \u001b[1;32m20\u001b[0m\n\u001b[1;33m    a=None\u001b[0m\n\u001b[1;37m    ^\u001b[0m\n\u001b[1;31mIndentationError\u001b[0m\u001b[1;31m:\u001b[0m unindent does not match any outer indentation level\n"
     ]
    }
   ],
   "source": [
    "# Python不仅仅可以使用布尔型变量作为条件，它可以直接在if中使用任何表达式作为条件：\n",
    "# 大部分表达式的值都会被当作True，但以下表达式值会被当作False：\n",
    "# False\n",
    "# None\n",
    "# 0\n",
    "# 空字符串，空列表，空字典，空集合\n",
    "\n",
    "mylist = [3, 1, 4, 1, 5, 9]\n",
    "if mylist:\n",
    "    print(\"The first element is:\", mylist[0])\n",
    "else:\n",
    "    print(\"There is no first element.\")\n",
    "\n",
    "mylist1 = []\n",
    "if mylist1:\n",
    "    print(\"The first element is:\", mylist1[0])\n",
    "else:\n",
    "    print (\"There is no first element.\")"
   ]
  },
  {
   "cell_type": "markdown",
   "metadata": {},
   "source": [
    "## if 嵌套"
   ]
  },
  {
   "cell_type": "code",
   "execution_count": 23,
   "metadata": {},
   "outputs": [
    {
     "name": "stdout",
     "output_type": "stream",
     "text": [
      "输入一个数字：9\n",
      "你输入的数字可以整除 3，但不能整除 2\n"
     ]
    }
   ],
   "source": [
    "# 在嵌套 if 语句中，可以把 if...elif...else 结构放在另外一个 if...elif...else 结构中。\n",
    "# 会变同事打死,慎之\n",
    "num=int(input(\"输入一个数字：\"))\n",
    "if num%2==0:\n",
    "    if num%3==0:\n",
    "        print (\"你输入的数字可以整除 2 和 3\")\n",
    "    else:\n",
    "        print (\"你输入的数字可以整除 2，但不能整除 3\")\n",
    "else:\n",
    "    if num%3==0:\n",
    "        print (\"你输入的数字可以整除 3，但不能整除 2\")\n",
    "    else:\n",
    "        print  (\"你输入的数字不能整除 2 和 3\")"
   ]
  },
  {
   "cell_type": "markdown",
   "metadata": {},
   "source": [
    "## 课后作业"
   ]
  },
  {
   "cell_type": "code",
   "execution_count": 3,
   "metadata": {},
   "outputs": [],
   "source": [
    "# 质数判断\n",
    "# 质数:一个大于1的自然数，除了1和它本身外，不能被其他自然数（质数）整除（2, 3, 5, 7等），换句话说就是该数除了1和它本身以外不再有其他的因数。\n",
    "# 要求,输入一个数字,判断是否为质数,输入ture or false"
   ]
  },
  {
   "cell_type": "code",
   "execution_count": null,
   "metadata": {},
   "outputs": [],
   "source": [
    "# 判断闰年\n",
    "#普通闰年:能被4整除但不能被100整除的年份为普通闰年。（如2004年就是闰年，1900年不是闰年）\n",
    "#世纪闰年:能被400整除的为世纪闰年。（如2000年是世纪闰年，1900年不是世纪闰年）\n",
    "# 要求,输入一个数字,判断是否为闰年,输入ture or false"
   ]
  },
  {
   "cell_type": "code",
   "execution_count": null,
   "metadata": {},
   "outputs": [],
   "source": []
  },
  {
   "cell_type": "code",
   "execution_count": null,
   "metadata": {},
   "outputs": [],
   "source": []
  },
  {
   "cell_type": "code",
   "execution_count": null,
   "metadata": {},
   "outputs": [],
   "source": []
  },
  {
   "cell_type": "code",
   "execution_count": null,
   "metadata": {},
   "outputs": [],
   "source": []
  },
  {
   "cell_type": "code",
   "execution_count": null,
   "metadata": {},
   "outputs": [],
   "source": []
  },
  {
   "cell_type": "code",
   "execution_count": null,
   "metadata": {},
   "outputs": [],
   "source": []
  },
  {
   "cell_type": "code",
   "execution_count": null,
   "metadata": {},
   "outputs": [],
   "source": []
  }
 ],
 "metadata": {
  "kernelspec": {
   "display_name": "Python 3",
   "language": "python",
   "name": "python3"
  },
  "language_info": {
   "codemirror_mode": {
    "name": "ipython",
    "version": 3
   },
   "file_extension": ".py",
   "mimetype": "text/x-python",
   "name": "python",
   "nbconvert_exporter": "python",
   "pygments_lexer": "ipython3",
   "version": "3.7.3"
  }
 },
 "nbformat": 4,
 "nbformat_minor": 2
}
