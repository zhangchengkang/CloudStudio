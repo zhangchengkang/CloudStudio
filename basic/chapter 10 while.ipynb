{
 "cells": [
  {
   "cell_type": "markdown",
   "metadata": {},
   "source": [
    "# Python3 while"
   ]
  },
  {
   "cell_type": "code",
   "execution_count": null,
   "metadata": {},
   "outputs": [],
   "source": [
    "# Python会循环执行<statesments>，直到<condition>不满足为止。\n",
    "\n",
    "while <condition>:\n",
    "    <statesments>\n"
   ]
  },
  {
   "cell_type": "markdown",
   "metadata": {},
   "source": [
    "## 基本用法"
   ]
  },
  {
   "cell_type": "code",
   "execution_count": 3,
   "metadata": {},
   "outputs": [
    {
     "name": "stdout",
     "output_type": "stream",
     "text": [
      "45\n"
     ]
    }
   ],
   "source": [
    "i = 0\n",
    "total = 0\n",
    "while i < 10:\n",
    "    total += i\n",
    "    i += 1\n",
    "    \n",
    "print(total)"
   ]
  },
  {
   "cell_type": "code",
   "execution_count": 15,
   "metadata": {},
   "outputs": [
    {
     "name": "stdout",
     "output_type": "stream",
     "text": [
      "TF\n",
      "SKII\n",
      "MAC\n"
     ]
    }
   ],
   "source": [
    "# 之前提到，空容器会被当成 False ，因此可以用 while 循环来读取容器中的所有元素\n",
    "lipsticks = set(['TF', 'MAC', 'SKII'])\n",
    "while lipsticks:\n",
    "    lipstick = lipsticks.pop()\n",
    "    print(lipstick)"
   ]
  },
  {
   "cell_type": "markdown",
   "metadata": {},
   "source": [
    "## continue 语句"
   ]
  },
  {
   "cell_type": "code",
   "execution_count": 31,
   "metadata": {},
   "outputs": [
    {
     "name": "stdout",
     "output_type": "stream",
     "text": [
      "当期变量值为 : 4\n",
      "当期变量值为 : 2\n",
      "当期变量值为 : 1\n",
      "当期变量值为 : 0\n",
      "是不是没有3\n"
     ]
    }
   ],
   "source": [
    "# continue语句被用来告诉Python跳过当前循环块中的剩余语句，然后继续进行下一轮循环。\n",
    "var = 5                   \n",
    "while var > 0:              \n",
    "   var = var -1\n",
    "   if var == 3: \n",
    "      continue\n",
    "   print ('当期变量值为 :', var) \n",
    "\n",
    "print(\"是不是没有3\")"
   ]
  },
  {
   "cell_type": "markdown",
   "metadata": {},
   "source": [
    "## break 语句"
   ]
  },
  {
   "cell_type": "code",
   "execution_count": 34,
   "metadata": {},
   "outputs": [
    {
     "name": "stdout",
     "output_type": "stream",
     "text": [
      "当期变量值为 : 10\n",
      "当期变量值为 : 9\n",
      "当期变量值为 : 8\n",
      "当期变量值为 : 7\n",
      "当期变量值为 : 6\n",
      "6以下的都没了\n"
     ]
    }
   ],
   "source": [
    "#break 语句可以跳出 for 和 while 的循环体\n",
    "var = 10                    \n",
    "while var > 0:              \n",
    "   print ('当期变量值为 :', var)\n",
    "   var = var -1\n",
    "   if var == 5:\n",
    "      break\n",
    "        \n",
    "print(\"6以下的都没了\")"
   ]
  },
  {
   "cell_type": "markdown",
   "metadata": {},
   "source": [
    "## 无限循环"
   ]
  },
  {
   "cell_type": "code",
   "execution_count": null,
   "metadata": {},
   "outputs": [],
   "source": [
    "# 无限循环会一直运行下去,导致服务器挂掉,慎之\n",
    "var = 1\n",
    "while var == 1 :  # 表达式永远为 true\n",
    "   num = int(input(\"输入一个数字  :\"))\n",
    "   print (\"你输入的数字是: \", num)\n",
    "    \n",
    "print (\"Good bye!\")"
   ]
  },
  {
   "cell_type": "markdown",
   "metadata": {},
   "source": [
    "## 课后作业"
   ]
  },
  {
   "cell_type": "code",
   "execution_count": 3,
   "metadata": {},
   "outputs": [],
   "source": [
    "# 斐波那契数列指的是这样一个数列 0, 1, 1, 2, 3, 5, 8, 13,\n",
    "# 特别指出：第0项是0，第1项是第一个1。从第三项开始，每一项都等于前两项之和\n",
    "# 请用代码实现:\n",
    "# 如 输入3 程序输出 0, 1, 1\n",
    "# 输入5 程序输出 0, 1, 1, 2, 3"
   ]
  }
 ],
 "metadata": {
  "kernelspec": {
   "display_name": "Python 3",
   "language": "python",
   "name": "python3"
  },
  "language_info": {
   "codemirror_mode": {
    "name": "ipython",
    "version": 3
   },
   "file_extension": ".py",
   "mimetype": "text/x-python",
   "name": "python",
   "nbconvert_exporter": "python",
   "pygments_lexer": "ipython3",
   "version": "3.7.3"
  }
 },
 "nbformat": 4,
 "nbformat_minor": 2
}
