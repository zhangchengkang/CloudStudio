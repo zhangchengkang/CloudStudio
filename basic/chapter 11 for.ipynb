{
 "cells": [
  {
   "cell_type": "markdown",
   "metadata": {},
   "source": [
    "# Python3 集合"
   ]
  },
  {
   "cell_type": "code",
   "execution_count": null,
   "metadata": {},
   "outputs": [],
   "source": [
    "# for 循环会遍历完<sequence>中所有元素为止\n",
    "\n",
    "for <variable> in <sequence>:\n",
    "    <indented block of code>\n"
   ]
  },
  {
   "cell_type": "markdown",
   "metadata": {},
   "source": [
    "## 基本用法"
   ]
  },
  {
   "cell_type": "code",
   "execution_count": 1,
   "metadata": {},
   "outputs": [
    {
     "name": "stdout",
     "output_type": "stream",
     "text": [
      "SKII\n",
      "TF\n",
      "MAC\n"
     ]
    }
   ],
   "source": [
    "lipsticks = set(['TF', 'MAC', 'SKII'])\n",
    "for lipstick in lipsticks:\n",
    "    print(lipstick)"
   ]
  },
  {
   "cell_type": "code",
   "execution_count": 5,
   "metadata": {},
   "outputs": [
    {
     "name": "stdout",
     "output_type": "stream",
     "text": [
      "45\n",
      "range(0, 10)\n"
     ]
    }
   ],
   "source": [
    "total = 0\n",
    "for i in range(10):  # range(10) 生成0-10的数列\n",
    "    total += i\n",
    "print (total)"
   ]
  },
  {
   "cell_type": "markdown",
   "metadata": {},
   "source": [
    "## continue 语句"
   ]
  },
  {
   "cell_type": "code",
   "execution_count": 9,
   "metadata": {},
   "outputs": [
    {
     "name": "stdout",
     "output_type": "stream",
     "text": [
      "当前字母为 : z\n",
      "当前字母为 : h\n",
      "当前字母为 : n\n",
      "当前字母为 : g\n"
     ]
    }
   ],
   "source": [
    "for char in 'zhang':\n",
    "    if char == 'a':\n",
    "        continue\n",
    "    print('当前字母为 :',char)"
   ]
  },
  {
   "cell_type": "markdown",
   "metadata": {},
   "source": [
    "## break 语句"
   ]
  },
  {
   "cell_type": "code",
   "execution_count": 7,
   "metadata": {},
   "outputs": [
    {
     "name": "stdout",
     "output_type": "stream",
     "text": [
      "当前字母为 : z\n",
      "当前字母为 : h\n"
     ]
    }
   ],
   "source": [
    "for char in 'zhang':    \n",
    "   if char == 'a':\n",
    "      break\n",
    "   print ('当前字母为 :', char)"
   ]
  },
  {
   "cell_type": "markdown",
   "metadata": {},
   "source": [
    "## else语句"
   ]
  },
  {
   "cell_type": "code",
   "execution_count": 11,
   "metadata": {},
   "outputs": [
    {
     "name": "stdout",
     "output_type": "stream",
     "text": [
      "All values greater than 10\n"
     ]
    }
   ],
   "source": [
    "# 与 if 一样， while 和 for 循环后面也可以跟着 else 语句，不过要和break一起连用。(好奇葩)\n",
    "\n",
    "# 当循环正常结束时，循环条件不满足， else 被执行；\n",
    "values = [11, 12, 13, 100]\n",
    "for x in values:\n",
    "    if x <= 10:\n",
    "        print ('Found:', x)\n",
    "        break\n",
    "else:\n",
    "    print ('All values greater than 10')"
   ]
  },
  {
   "cell_type": "code",
   "execution_count": 12,
   "metadata": {},
   "outputs": [
    {
     "name": "stdout",
     "output_type": "stream",
     "text": [
      "Found: 7\n"
     ]
    }
   ],
   "source": [
    "# 当循环被 break 结束时，循环条件仍然满足， else 不执行。\n",
    "values = [7, 6, 4, 7]\n",
    "for x in values:\n",
    "    if x <= 10:\n",
    "        print ('Found:', x)\n",
    "        break\n",
    "else:\n",
    "    print( 'All values greater than 10')"
   ]
  }
 ],
 "metadata": {
  "kernelspec": {
   "display_name": "Python 3",
   "language": "python",
   "name": "python3"
  },
  "language_info": {
   "codemirror_mode": {
    "name": "ipython",
    "version": 3
   },
   "file_extension": ".py",
   "mimetype": "text/x-python",
   "name": "python",
   "nbconvert_exporter": "python",
   "pygments_lexer": "ipython3",
   "version": "3.7.3"
  }
 },
 "nbformat": 4,
 "nbformat_minor": 2
}
