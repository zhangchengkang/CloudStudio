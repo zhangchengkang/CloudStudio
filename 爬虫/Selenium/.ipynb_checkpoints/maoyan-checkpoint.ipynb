{
 "cells": [
  {
   "cell_type": "code",
   "execution_count": null,
   "metadata": {},
   "outputs": [],
   "source": [
    "from selenium import webdriver\n",
    "from selenium.common.exceptions import TimeoutException\n",
    "from selenium.webdriver.common.by import By\n",
    "from selenium.webdriver.support import expected_conditions as EC\n",
    "from selenium.webdriver.support.wait import WebDriverWait\n",
    "from urllib.parse import quote\n",
    "from openpyxl import Workbook\n",
    "from pyquery import PyQuery as pq\n",
    "\n",
    "chrome_options = webdriver.ChromeOptions()\n",
    "chrome_options.add_argument('--headless')\n",
    "browser = webdriver.Chrome(options=chrome_options)\n",
    "\n",
    "wait = WebDriverWait(browser, 10)\n",
    "\n",
    "def index_page(offset):\n",
    "    print('正在爬取第', offset, '条')\n",
    "    try:\n",
    "        url = 'http://maoyan.com/board/4?offset=' + str(offset)\n",
    "        browser.get(url)\n",
    "        return get_products()\n",
    "    except TimeoutException:\n",
    "        return index_page(offset)\n",
    "\n",
    "\n",
    "def get_products():\n",
    "    html = browser.page_source\n",
    "    doc = pq(html)\n",
    "    items = doc('.container .board-wrapper dd').items()\n",
    "    info_list = []\n",
    "    for item in items:\n",
    "        info = []\n",
    "        info.append(item.find('.board-index').text())\n",
    "        info.append(item.find('.name').text())\n",
    "        info.append(item.find('.star').text())\n",
    "        info.append(item.find('.releasetime').text())\n",
    "        info.append(item.find('.integer').text())\n",
    "        info.append(item.find('.fraction').text())\n",
    "        info.append(item.find('.board-img').attr('data-src'))\n",
    "        info_list.append(info)\n",
    "        print(info)\n",
    "    return info_list\n",
    "\n",
    "\n",
    "def main():\n",
    "    wb = Workbook()\n",
    "    ws1 = wb.active\n",
    "    ws1.title = 'TOP100榜'\n",
    "    for i in range(10):\n",
    "       info_list = index_page(i*10)\n",
    "       for row in info_list:\n",
    "           ws1.append(row)\n",
    "    wb.save('TOP100榜.xlsx')\n",
    "    browser.close()\n",
    "\n",
    "\n",
    "if __name__ == '__main__':\n",
    "    main()\n"
   ]
  },
  {
   "cell_type": "code",
   "execution_count": null,
   "metadata": {},
   "outputs": [],
   "source": []
  }
 ],
 "metadata": {
  "kernelspec": {
   "display_name": "Python 3",
   "language": "python",
   "name": "python3"
  },
  "language_info": {
   "codemirror_mode": {
    "name": "ipython",
    "version": 3
   },
   "file_extension": ".py",
   "mimetype": "text/x-python",
   "name": "python",
   "nbconvert_exporter": "python",
   "pygments_lexer": "ipython3",
   "version": "3.7.3"
  }
 },
 "nbformat": 4,
 "nbformat_minor": 2
}
