{
 "cells": [
  {
   "cell_type": "markdown",
   "metadata": {},
   "source": [
    "## Excel使用"
   ]
  },
  {
   "cell_type": "code",
   "execution_count": 14,
   "metadata": {},
   "outputs": [],
   "source": [
    "import xlsxwriter\n",
    "\n",
    "workbook = xlsxwriter.Workbook('示例1.xlsx')    # 创建一个名为‘Demo1.xlsx’的工作表\n",
    "worksheet = workbook.add_worksheet()            # 创建一个工作表对象\n",
    "\n",
    "worksheet.set_column('A:A', 20)                 # 设定第一列（A）的宽度为20px\n",
    "# bold = workbook.add_format({'blod': True})\n",
    "\n",
    "worksheet.write('A1', 'Hello World！')           # A1单元格写入‘Hello World！’\n",
    "worksheet.write('A2', '你好，世界！')             # A2单元格写入‘你好，世界！’\n",
    "\n",
    "# 行列表示法的单元格下标以0作为起始值，如‘3,0’等价于‘A4’\n",
    "worksheet.write(2, 0, 123)              # 使用列行表示法写入数字‘123’\n",
    "worksheet.write(3, 0, 456)              # 使用列行表示法写入数字‘456’\n",
    "worksheet.write(4, 0, '=SUM(A3:A4)')    # 求A3:A4的和，并写入‘4,0’，即‘A5’\n",
    "\n",
    "worksheet.insert_image('A5', 'XLSX.png')        # 在A5单元格插入图片\n",
    "workbook.close()        # 关闭Excel文件"
   ]
  },
  {
   "cell_type": "code",
   "execution_count": null,
   "metadata": {},
   "outputs": [],
   "source": []
  },
  {
   "cell_type": "code",
   "execution_count": 13,
   "metadata": {},
   "outputs": [],
   "source": [
    "from openpyxl import Workbook\n",
    "\n",
    "wb = Workbook() \n",
    "ws1 = wb.active\n",
    "ws1.title = '示例2'\n",
    "info_list = ['Google', 'kang', 1997, 2000]\n",
    "for i in range(5):\n",
    "    ws1.append(info_list)\n",
    "wb.save('示例2.xlsx')  "
   ]
  },
  {
   "cell_type": "code",
   "execution_count": null,
   "metadata": {},
   "outputs": [],
   "source": []
  },
  {
   "cell_type": "code",
   "execution_count": null,
   "metadata": {},
   "outputs": [],
   "source": []
  },
  {
   "cell_type": "code",
   "execution_count": null,
   "metadata": {},
   "outputs": [],
   "source": []
  },
  {
   "cell_type": "code",
   "execution_count": null,
   "metadata": {},
   "outputs": [],
   "source": []
  },
  {
   "cell_type": "code",
   "execution_count": null,
   "metadata": {},
   "outputs": [],
   "source": []
  },
  {
   "cell_type": "code",
   "execution_count": null,
   "metadata": {},
   "outputs": [],
   "source": []
  },
  {
   "cell_type": "code",
   "execution_count": null,
   "metadata": {},
   "outputs": [],
   "source": []
  }
 ],
 "metadata": {
  "kernelspec": {
   "display_name": "Python 3",
   "language": "python",
   "name": "python3"
  },
  "language_info": {
   "codemirror_mode": {
    "name": "ipython",
    "version": 3
   },
   "file_extension": ".py",
   "mimetype": "text/x-python",
   "name": "python",
   "nbconvert_exporter": "python",
   "pygments_lexer": "ipython3",
   "version": "3.7.3"
  }
 },
 "nbformat": 4,
 "nbformat_minor": 2
}
