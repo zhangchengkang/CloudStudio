{
 "cells": [
  {
   "cell_type": "markdown",
   "metadata": {},
   "source": [
    "## 糗事百科爬虫代码"
   ]
  },
  {
   "cell_type": "code",
   "execution_count": 5,
   "metadata": {},
   "outputs": [],
   "source": [
    "import requests\n",
    "from bs4 import BeautifulSoup\n",
    "\n",
    "def download_page(url):\n",
    "   headers = {\"User-Agent\": \"Mozilla/5.0 (Windows NT 10.0; Win64; x64; rv:61.0) Gecko/20100101 Firefox/61.0\"}\n",
    "   r = requests.get(url, headers=headers)  # 增加headers, 模拟浏览器\n",
    "   return r.text\n",
    "\n",
    "def get_content(html, page):\n",
    "   output = \"\"\"第{}页 作者：{} 性别：{} 年龄：{} 点赞：{} 评论：{}\\n{}\\n------------\\n\"\"\" # 最终输出格式\n",
    "   soup = BeautifulSoup(html, 'html.parser')\n",
    "   con = soup.find(id='content-left')  # 如图一红色方框\n",
    "   con_list = con.find_all('div', class_=\"article\")  # 找到文章列表\n",
    "   for i in con_list:\n",
    "       author = i.find('h2').string  # 获取作者名字\n",
    "       content = i.find('div', class_='content').find('span').get_text()  # 获取内容\n",
    "       stats = i.find('div', class_='stats')\n",
    "       vote = stats.find('span', class_='stats-vote').find('i', class_='number').string\n",
    "       comment = stats.find('span', class_='stats-comments').find('i', class_='number').string\n",
    "       author_info = i.find('div', class_='articleGender')  # 获取作者 年龄，性别\n",
    "       if author_info is not None:  # 非匿名用户\n",
    "           class_list = author_info['class']\n",
    "           if \"womenIcon\" in class_list:\n",
    "               gender = '女'\n",
    "           elif \"manIcon\" in class_list:\n",
    "               gender = '男'\n",
    "           else:\n",
    "               gender = ''\n",
    "           age = author_info.string   # 获取年龄\n",
    "       else:  # 匿名用户\n",
    "           gender = ''\n",
    "           age = ''\n",
    "\n",
    "       save_txt(output.format(page, author, gender, age, vote, comment, content))\n",
    "\n",
    "\n",
    "def save_txt(*args):\n",
    "   for i in args:\n",
    "       with open('qiubai.txt', 'a', encoding='utf-8') as f:\n",
    "           f.write(i)\n",
    "\n",
    "\n",
    "def main():\n",
    "   # 我们点击下面链接，在页面下方可以看到共有13页，可以构造如下 url，\n",
    "   # 当然我们最好是用 Beautiful Soup找到页面底部有多少页。\n",
    "   for i in range(1, 14):\n",
    "       url = 'https://qiushibaike.com/text/page/{}'.format(i)\n",
    "       html = download_page(url)\n",
    "       get_content(html, i)\n",
    "\n",
    "if __name__ == '__main__':\n",
    "   main()"
   ]
  }
 ],
 "metadata": {
  "kernelspec": {
   "display_name": "Python 3",
   "language": "python",
   "name": "python3"
  },
  "language_info": {
   "codemirror_mode": {
    "name": "ipython",
    "version": 3
   },
   "file_extension": ".py",
   "mimetype": "text/x-python",
   "name": "python",
   "nbconvert_exporter": "python",
   "pygments_lexer": "ipython3",
   "version": "3.7.3"
  }
 },
 "nbformat": 4,
 "nbformat_minor": 2
}
