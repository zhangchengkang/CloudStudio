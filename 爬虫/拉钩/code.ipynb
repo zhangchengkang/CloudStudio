{
 "cells": [
  {
   "cell_type": "markdown",
   "metadata": {},
   "source": [
    "## 拉钩Python招聘信息爬取"
   ]
  },
  {
   "cell_type": "code",
   "execution_count": 12,
   "metadata": {},
   "outputs": [],
   "source": [
    "import random\n",
    "import time\n",
    "\n",
    "import requests\n",
    "from openpyxl import Workbook\n",
    "import pymysql.cursors\n",
    "\n",
    "\n",
    "def get_conn():\n",
    "   '''建立数据库连接'''\n",
    "   conn = pymysql.connect(host='localhost',\n",
    "                               user='root',\n",
    "                               password='root',\n",
    "                               db='python',\n",
    "                               charset='utf8mb4',\n",
    "                               cursorclass=pymysql.cursors.DictCursor)\n",
    "   return conn\n",
    "\n",
    "\n",
    "def insert(conn, info):\n",
    "   '''数据写入数据库'''\n",
    "   with conn.cursor() as cursor:\n",
    "       sql = \"INSERT INTO `python` (`shortname`, `fullname`, `industryfield`, `companySize`, `salary`, `city`, `education`) VALUES (%s, %s, %s, %s, %s, %s, %s)\"\n",
    "       cursor.execute(sql, info)\n",
    "   conn.commit()\n",
    "\n",
    "\n",
    "def get_json(url, page, lang_name):\n",
    "   '''返回当前页面的信息列表'''\n",
    "   headers = {\n",
    "        'Accept': 'application/json, text/javascript, */*; q=0.01',\n",
    "        'Accept-Encoding': 'gzip, deflate, br',\n",
    "        'Accept-Language': 'zh-CN,zh;q=0.9,und;q=0.8',\n",
    "        'Connection': 'keep-alive',\n",
    "        'Content-Length': '55',\n",
    "        'Content-Type': 'application/x-www-form-urlencoded; charset=UTF-8',\n",
    "        'Cookie': 'JSESSIONID=ABAAABAAAGFABEF2EEBD44BEFA69338D3F3F38BC09E46D3; _ga=GA1.2.1080077220.1560156899; _gid=GA1.2.1375169045.1560156899; Hm_lvt_4233e74dff0ae5bd0a3d81c6ccf756e6=1560156899; user_trace_token=20190610165458-6cf29f86-8b5d-11e9-a22c-5254005c3644; LGSID=20190610165458-6cf2a168-8b5d-11e9-a22c-5254005c3644; LGUID=20190610165458-6cf2a2f1-8b5d-11e9-a22c-5254005c3644; index_location_city=%E5%85%A8%E5%9B%BD; TG-TRACK-CODE=index_search; X_MIDDLE_TOKEN=90cb717a148ddf9b3845f2a37d2c80c3; _gat=1; Hm_lpvt_4233e74dff0ae5bd0a3d81c6ccf756e6=1560158765; LGRID=20190610172604-c5209a60-8b61-11e9-aab1-525400f775ce; X_HTTP_TOKEN=c7bd48f9315c1a2b058851065112898731c9d54a5f; SEARCH_ID=01f04a82304d48cf96899b5645af9ce2',\n",
    "        'Host': 'www.lagou.com',\n",
    "        'Origin': 'https://www.lagou.com',\n",
    "        'Referer': 'https://www.lagou.com/jobs/list_python?city=%E5%8C%97%E4%BA%AC&cl=false&fromSearch=true&labelWords=&suginput=',\n",
    "        'User-Agent': 'Mozilla/5.0 (Windows NT 10.0; Win64; x64) AppleWebKit/537.36 (KHTML, like Gecko) Chrome/74.0.3729.169 Safari/537.36',\n",
    "        'X-Anit-Forge-Code': '0',\n",
    "        'X-Anit-Forge-Token': 'None',\n",
    "        'X-Requested-With': 'XMLHttpRequest'\n",
    "   }\n",
    "   data = {'first': 'false', 'pn': page, 'kd': lang_name}\n",
    "   json = requests.post(url, data, headers=headers).json()\n",
    "   list_con = json['content']['positionResult']['result']\n",
    "   info_list = []\n",
    "   for i in list_con:\n",
    "       info = []\n",
    "       info.append(i.get('city', '无'))\n",
    "       info.append(i.get('companyShortName', '无'))  # 公司名\n",
    "       info.append(i.get('companyFullName', '无'))\n",
    "       info.append(i.get('industryField', '无'))   # 行业领域\n",
    "       info.append(i.get('companySize', '无'))  # 公司规模\n",
    "       info.append(i.get('financeStage', '无'))\n",
    "       info.append(i.get('salary', '无'))   # 薪资\n",
    "       info.append(i.get('workYear', '无'))   \n",
    "       info.append(i.get('education', '无'))   # 学历\n",
    "       info.append(i.get('createTime', '无'))  \n",
    "       info_list.append(info)\n",
    "   return info_list   # 返回列表\n",
    "\n",
    "\n",
    "def main():\n",
    "   lang_name = '后期制作'\n",
    "   wb = Workbook()  # 打开 excel 工作簿\n",
    "#    conn = get_conn()  # 建立数据库连接  不存数据库 注释此行\n",
    "   for i in ['杭州']:   # 五个城市  爬多了会被封  先爬一个\n",
    "       page = 1\n",
    "       ws1 = wb.active\n",
    "       ws1.title = lang_name\n",
    "       url = 'https://www.lagou.com/jobs/positionAjax.json?gj=3%E5%B9%B4%E5%8F%8A%E4%BB%A5%E4%B8%8B&px=default&city={}&needAddtionalResult=false'.format(i)\n",
    "       while page < 3:   # 每个城市30页信息  爬多了会被封  先爬一页\n",
    "           info = get_json(url, page, lang_name)\n",
    "           page += 1\n",
    "           time.sleep(random.randint(30, 50))\n",
    "           for row in info:\n",
    "#                insert(conn, tuple(row))  # 插入数据库，若不想存入 注释此行\n",
    "               ws1.append(row)\n",
    "#    conn.close()  # 关闭数据库连接，不存数据库 注释此行\n",
    "   wb.save('{}职位信息.xlsx'.format(lang_name))\n",
    "\n",
    "if __name__ == '__main__':\n",
    "   main()"
   ]
  },
  {
   "cell_type": "code",
   "execution_count": null,
   "metadata": {},
   "outputs": [],
   "source": []
  },
  {
   "cell_type": "code",
   "execution_count": null,
   "metadata": {},
   "outputs": [],
   "source": []
  },
  {
   "cell_type": "code",
   "execution_count": null,
   "metadata": {},
   "outputs": [],
   "source": []
  },
  {
   "cell_type": "code",
   "execution_count": null,
   "metadata": {},
   "outputs": [],
   "source": []
  },
  {
   "cell_type": "code",
   "execution_count": null,
   "metadata": {},
   "outputs": [],
   "source": []
  },
  {
   "cell_type": "code",
   "execution_count": null,
   "metadata": {},
   "outputs": [],
   "source": []
  }
 ],
 "metadata": {
  "kernelspec": {
   "display_name": "Python 3",
   "language": "python",
   "name": "python3"
  },
  "language_info": {
   "codemirror_mode": {
    "name": "ipython",
    "version": 3
   },
   "file_extension": ".py",
   "mimetype": "text/x-python",
   "name": "python",
   "nbconvert_exporter": "python",
   "pygments_lexer": "ipython3",
   "version": "3.7.3"
  }
 },
 "nbformat": 4,
 "nbformat_minor": 2
}
